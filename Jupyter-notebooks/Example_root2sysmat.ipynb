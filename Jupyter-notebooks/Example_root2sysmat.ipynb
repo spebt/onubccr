{
 "cells": [
  {
   "cell_type": "markdown",
   "id": "2713cae2-feb2-4ea8-b13b-fbc011ea9937",
   "metadata": {},
   "source": [
    "# Example Jupyter Notebook to convert the Gate simulation ROOT output to system matrix"
   ]
  },
  {
   "cell_type": "markdown",
   "id": "02d15214-8493-4d8d-af8e-567f9360759e",
   "metadata": {},
   "source": [
    " ## 1. Import the packages"
   ]
  },
  {
   "cell_type": "code",
   "execution_count": null,
   "id": "ce9654d7-a3a6-4d4b-ba55-31ce4a1c4194",
   "metadata": {},
   "outputs": [],
   "source": [
    "import ROOT as rt\n",
    "from matplotlib import pyplot as plt\n",
    "import numpy as np\n",
    "from ast import literal_eval as make_tuple"
   ]
  },
  {
   "cell_type": "markdown",
   "id": "3ac23b2f-de29-4a59-b346-b22b007c274e",
   "metadata": {},
   "source": [
    "## 2. Get the ROOT file path from user input"
   ]
  },
  {
   "cell_type": "code",
   "execution_count": null,
   "id": "3e8f162f-aaea-4a80-a6cf-80afb9b7621b",
   "metadata": {},
   "outputs": [],
   "source": [
    "fname = input(\"Path to the ROOT file:\")"
   ]
  },
  {
   "cell_type": "markdown",
   "id": "50d1106d-7070-492e-8e76-e83d01d5fb75",
   "metadata": {},
   "source": [
    "## 3. Read the ROOT file"
   ]
  },
  {
   "cell_type": "code",
   "execution_count": null,
   "id": "47e4bb94-3a47-43f1-af18-da32fbf7dad7",
   "metadata": {},
   "outputs": [],
   "source": [
    "print(\"Using ROOT file:\",fname)\n",
    "inFile = rt.TFile(fname, \"READ\")"
   ]
  },
  {
   "cell_type": "markdown",
   "id": "e1fd1064-9843-4e62-ba1b-a4675eb9ffe5",
   "metadata": {},
   "source": [
    "## 4. Get ROOT TTree name from user input"
   ]
  },
  {
   "cell_type": "code",
   "execution_count": null,
   "id": "013f026b-f16a-4c52-8a9e-2cbaffc0d6cb",
   "metadata": {},
   "outputs": [],
   "source": [
    "treeName = input(\"Name of the TTree:\")"
   ]
  },
  {
   "cell_type": "markdown",
   "id": "757f68ca-6376-4291-96ee-0d8c1582e261",
   "metadata": {},
   "source": [
    "## 5. Read the ROOT TTree with the given name"
   ]
  },
  {
   "cell_type": "code",
   "execution_count": null,
   "id": "124f63e3-395e-4c43-b2e8-5576314b9e56",
   "metadata": {},
   "outputs": [],
   "source": [
    "myTree = inFile[treeName]"
   ]
  },
  {
   "cell_type": "markdown",
   "id": "ba3ebdd2-0026-4b1f-9956-6843c55a994f",
   "metadata": {},
   "source": [
    "## 6. Get the number of detector units from user input"
   ]
  },
  {
   "cell_type": "code",
   "execution_count": null,
   "id": "2b23939c-66fc-4fc6-9154-588dc54331db",
   "metadata": {},
   "outputs": [],
   "source": [
    "N_det_unit = input(\"Number of deterctor units:\")"
   ]
  },
  {
   "cell_type": "markdown",
   "id": "39c28395-b480-441d-995d-19acdbda2ec4",
   "metadata": {},
   "source": [
    "## 7. Get FOV dimensions from user input"
   ]
  },
  {
   "cell_type": "code",
   "execution_count": null,
   "id": "9a4f86fb-e38c-432b-b728-0c888a82b7e0",
   "metadata": {},
   "outputs": [],
   "source": [
    "N_fov=make_tuple(input(\"FOV Dimensions:\"))"
   ]
  },
  {
   "cell_type": "markdown",
   "id": "c760ae3d-9fc6-4531-8413-517874ce92d9",
   "metadata": {},
   "source": [
    "## 8. Fill the detector unit ID (i), source x position and source y position into 3D histogram"
   ]
  },
  {
   "cell_type": "code",
   "execution_count": null,
   "id": "bde7d5a8-59e7-4f42-9910-f53640b68567",
   "metadata": {},
   "outputs": [],
   "source": [
    "hmapAll = rt.TH3F(\"hmapAll\",\"hampAll\",N_det_unit,0,N_det_unit,N_fov[0],-N_fov[0]//2,N_fov[0]//2,N_fov[1],-N_fov[1]//2,N_fov[1]//2)\n",
    "myTree.Draw(\"(layerID + crystalID*8 + submoduleID*32 + rsectorID*128):sourcePosY:sourcePosX>>hmapAll\",\"\",\"goff\")"
   ]
  },
  {
   "cell_type": "markdown",
   "id": "7a9c40f9-b38c-46b0-ace5-d58db965c88d",
   "metadata": {},
   "source": [
    "## 9. Get the total number of emitted particles from user input"
   ]
  },
  {
   "cell_type": "code",
   "execution_count": null,
   "id": "a4ecf920-6f5b-4878-9c90-bddc02701d32",
   "metadata": {},
   "outputs": [],
   "source": [
    "ntotal=int(input(\"Total number of gamma rays:\"))"
   ]
  },
  {
   "cell_type": "markdown",
   "id": "e39e492e-f397-4a8f-b482-e1dc2aab0382",
   "metadata": {},
   "source": [
    "## 10. Derive the system matrix from the 3D histogram\n",
    "\n",
    "_Note: It is going to take longer time to run_"
   ]
  },
  {
   "cell_type": "code",
   "execution_count": null,
   "id": "ab8aa253-df2b-45fc-99a2-58039f4e60a4",
   "metadata": {},
   "outputs": [],
   "source": [
    "sysmat = np.reshape(np.array(hmapAll),(N_det_unit+2,N_fov[0]+2,N_fov[1]+2))[1:-1,1:-1,1:-1]/ntotal"
   ]
  },
  {
   "cell_type": "markdown",
   "id": "2ab36804-c363-467c-982b-47a55e2fe196",
   "metadata": {},
   "source": [
    "## 11. Reshape the system matrix to 2D matix, with (i,j) indices"
   ]
  },
  {
   "cell_type": "code",
   "execution_count": null,
   "id": "dd871f6b-ae30-4481-8752-d6e6b9fd686e",
   "metadata": {},
   "outputs": [],
   "source": [
    "sysmat=sysmat.reshape((N_det_unit,np.prod(N_fov)))"
   ]
  },
  {
   "cell_type": "markdown",
   "id": "dad053cd-31f4-4bf7-9bae-3cf872296b32",
   "metadata": {},
   "source": [
    "## 12. Get the detector unit index for plotting"
   ]
  },
  {
   "cell_type": "code",
   "execution_count": null,
   "id": "aec7e8b9-10d0-46cc-841b-fb4a624d1ab5",
   "metadata": {},
   "outputs": [],
   "source": [
    "det_id = int(input(f\"Detector unit index [0-{N_det_unit}]:\"))"
   ]
  },
  {
   "cell_type": "markdown",
   "id": "8a5c9135-345d-4f50-b751-bedb52111772",
   "metadata": {},
   "source": [
    "## 13. Plot the PPDF for the detector unit"
   ]
  },
  {
   "cell_type": "code",
   "execution_count": null,
   "id": "1636d1da-54b6-45e2-bdaf-aac93bee742b",
   "metadata": {},
   "outputs": [],
   "source": [
    "fig, ax = plt.subplots(figsize=(10, 9))\n",
    "imshow_obj = ax.imshow(sysmat[det_id].reshape(N_fov),cmap='turbo',origin='lower')\n",
    "cbar=plt.colorbar(imshow_obj)\n",
    "plt.suptitle(f\"PPDF of detector unit {det_id}\")\n",
    "ax.set_xlabel(\"FOV Voxel X (mm)\")\n",
    "ax.set_ylabel(\"FOV Voxel Y (mm) \")\n",
    "fig.tight_layout()"
   ]
  },
  {
   "cell_type": "code",
   "execution_count": null,
   "id": "ce901baf-3d3b-4562-b515-2a8195ce8efa",
   "metadata": {},
   "outputs": [],
   "source": []
  }
 ],
 "metadata": {
  "kernelspec": {
   "display_name": "Python 3 (ipykernel)",
   "language": "python",
   "name": "python3"
  },
  "language_info": {
   "codemirror_mode": {
    "name": "ipython",
    "version": 3
   },
   "file_extension": ".py",
   "mimetype": "text/x-python",
   "name": "python",
   "nbconvert_exporter": "python",
   "pygments_lexer": "ipython3",
   "version": "3.12.5"
  }
 },
 "nbformat": 4,
 "nbformat_minor": 5
}
